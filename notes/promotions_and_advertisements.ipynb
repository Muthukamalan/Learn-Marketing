{
 "cells": [
  {
   "cell_type": "markdown",
   "id": "b769b7d0-842f-4a35-a7b6-18a733d5f75e",
   "metadata": {},
   "source": [
    "Agenda:\n",
    "\n",
    "1. Environment\n",
    "\n",
    "2. Business Objective\n",
    "    - Manufacturers and Retailers\n",
    "    - Costs\n",
    "    - Gains\n",
    "\n",
    "\n",
    "3. Targeting Pipeline\n",
    "\n",
    "\n",
    "4. Response Modeling and Measurement\n",
    "    - Response Modeling Framework\n",
    "    - Response Measurement\n",
    "\n",
    "\n",
    "5. Building Blocks: Targeting and LifeTime Value(LTV) Models\n",
    "    - Data Collection\n",
    "    - Tiered Modeling\n",
    "    - RFM Modeling\n",
    "    - Propensity Modeling\n",
    "        - Look-alike Modeling\n",
    "        - Response and Uplift Modeling\n",
    "\n",
    "\n",
    "6. Segementtation and Persona-based Modeling\n",
    "\n",
    "\n",
    "7. Targeting by using Survival Analysis\n",
    "\n",
    "\n",
    "8. LifeTime Value Modeling\n",
    "    - Descriptive Analysis\n",
    "    - Markov Chain Models\n",
    "    - Regression Models\n",
    "\n",
    "\n",
    "9. Designing and Running Campaigns\n",
    "    - Customer Journeys\n",
    "    - Product Promotion Campaigns\n",
    "        - Targeting process\n",
    "        - Budgeting and Capping\n",
    "    - Multistage promotion Campaigns\n",
    "    - Retention Campaigns\n",
    "    - Replenishment Campaigns\n",
    "\n",
    "\n",
    "10. Resource Allocation\n",
    "    - Allocation by channel\n",
    "    - Allocation by Objective\n",
    "    \n",
    "\n",
    "11. Online Advertisements\n",
    "    - Env\n",
    "    - Objective and Attribution\n",
    "    - Targeting for the CPA-LT Model\n",
    "    - Multi-Touch Attribution\n",
    "\n",
    "\n",
    "12. Measuring the Effectivness\n",
    "    - Randomizeed Experiments\n",
    "        - Conversion Rate\n",
    "        - Uplift\n",
    "    - Observational Studies\n",
    "        - Model specification\n",
    "        - Simulation\n",
    "\n",
    "13. Architecture of Targeting System\n",
    "    - Targeting Server\n",
    "    - Data MAnagement Platform\n",
    "\n",
    "14. Summary"
   ]
  },
  {
   "cell_type": "code",
   "execution_count": null,
   "id": "e23c3959-43c2-4f92-8e25-82d5b60da706",
   "metadata": {},
   "outputs": [],
   "source": []
  },
  {
   "cell_type": "markdown",
   "id": "130d8735-b3ce-4139-aa35-9fafe518d3af",
   "metadata": {},
   "source": [
    "Every product or service has its target market, the group of consumers at which the product or service is aimed."
   ]
  },
  {
   "cell_type": "code",
   "execution_count": null,
   "id": "4bc0ba5b-e4e6-441b-a011-35fef154de9f",
   "metadata": {},
   "outputs": [],
   "source": []
  },
  {
   "cell_type": "code",
   "execution_count": null,
   "id": "f4a849a7-20db-49a1-b8ed-6473709a8abc",
   "metadata": {},
   "outputs": [],
   "source": []
  }
 ],
 "metadata": {
  "kernelspec": {
   "display_name": "Python 3 (ipykernel)",
   "language": "python",
   "name": "python3"
  },
  "language_info": {
   "codemirror_mode": {
    "name": "ipython",
    "version": 3
   },
   "file_extension": ".py",
   "mimetype": "text/x-python",
   "name": "python",
   "nbconvert_exporter": "python",
   "pygments_lexer": "ipython3",
   "version": "3.10.9"
  }
 },
 "nbformat": 4,
 "nbformat_minor": 5
}
