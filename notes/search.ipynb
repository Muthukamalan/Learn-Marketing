{
 "cells": [
  {
   "cell_type": "markdown",
   "id": "5aa8664c-c233-41f8-a407-49bdcbc86dbb",
   "metadata": {},
   "source": [
    "Agenda\n",
    "\n",
    "1. Environment\n",
    "2. Business Objective\n",
    "    - Relevance Metric\n",
    "    - Merchandising Controls\n",
    "    - Service Quality Metrics\n",
    "3. Building Blocks: Matching and Ranking\n",
    "    - Token Matching\n",
    "    - Boolean Search and Phrase Search\n",
    "    - Normalization and stemming\n",
    "    - Ranking and vector space model\n",
    "    - TFIDF scoring Model\n",
    "    - Scoring with n-grams\n",
    "4. Mixing Relevance Signals\n",
    "    - Searching Multiple Fields\n",
    "    - Signal Engineering and Equalization\n",
    "    - Designing a signal Mixing pipeline\n",
    "5. Semantic Analysis\n",
    "    - Synonyms and Hierarchies\n",
    "    - word Embedding\n",
    "    - Latent Semantic Analysis\n",
    "    - probablistic Latent Semantic Analysis\n",
    "    - Latent Dirichlet Allocation\n",
    "    - word2vec model\n",
    "6. Search methods for merchandising\n",
    "    - Combinatoria; phrase search\n",
    "    - controlled precision reduction\n",
    "    - nested entities and dynamic grouping\n",
    "7. Relevance Tuning\n",
    "    - Learning to rank\n",
    "    - learning to rank from implicit feedback\n",
    "8. Architecture of Mercandising Search Services\n",
    "9. Summary\n",
    "    "
   ]
  },
  {
   "cell_type": "code",
   "execution_count": null,
   "id": "d22312da-a79d-42c9-a61d-d84a2baf53a8",
   "metadata": {},
   "outputs": [],
   "source": []
  }
 ],
 "metadata": {
  "kernelspec": {
   "display_name": "Python 3 (ipykernel)",
   "language": "python",
   "name": "python3"
  },
  "language_info": {
   "codemirror_mode": {
    "name": "ipython",
    "version": 3
   },
   "file_extension": ".py",
   "mimetype": "text/x-python",
   "name": "python",
   "nbconvert_exporter": "python",
   "pygments_lexer": "ipython3",
   "version": "3.10.9"
  }
 },
 "nbformat": 4,
 "nbformat_minor": 5
}
