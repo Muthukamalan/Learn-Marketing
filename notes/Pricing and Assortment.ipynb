{
 "cells": [
  {
   "cell_type": "markdown",
   "id": "4f70c7a0-a8bc-4f13-97b9-e3db763f3785",
   "metadata": {},
   "source": [
    "Agenda:\n",
    "    \n",
    "1. Environment\n",
    "2. The Impact of pricing\n",
    "3. Price and Value\n",
    "    - Price Boundaries\n",
    "    - percieved Value\n",
    "4. Price and Demand\n",
    "    - Linear Demand Curve\n",
    "    - Constant- Elasticity Demand curve\n",
    "    - Logit Demand Curve\n",
    "5. Basic price Structures\n",
    "    - Unit price\n",
    "    - market segmentation\n",
    "    - multipart pricing\n",
    "    - bundling  \n",
    "6. Demand prediction\n",
    "    - Demand Model for Assortment Optimization\n",
    "    - Deand Model for Seasonal sales\n",
    "        - Demand Data preparation\n",
    "        - Model Specification\n",
    "    - Demand Predicition with Stockouts\n",
    "7. Price Optimization\n",
    "    - Price Differentiation\n",
    "        - Differentiation wth demand shifting\n",
    "        - Differentiation with constrained supply\n",
    "    - Dynamic pricing\n",
    "        - markdown and clearance sales\n",
    "        - markdown price optimization\n",
    "        - price optimization for competing product\n",
    "    - Personalized discounts\n",
    "8. Resource Allocation\n",
    "    - Env\n",
    "    - Allocation with two classes\n",
    "    - Allocation with multiple classes\n",
    "    - Heuristics for multiple classes\n",
    "        - EMSRa\n",
    "        - EMSRb\n",
    "9. Assortment Optimization \n",
    "    - Store-Layout Optimization\n",
    "    - Category Management\n",
    "10. Architecture of Price Management System\n",
    "11. Summary\n",
    "            - \n",
    "    "
   ]
  },
  {
   "cell_type": "code",
   "execution_count": null,
   "id": "c5dadda0-b50d-4f31-a35d-e30c3f515be3",
   "metadata": {},
   "outputs": [],
   "source": []
  }
 ],
 "metadata": {
  "kernelspec": {
   "display_name": "Python 3 (ipykernel)",
   "language": "python",
   "name": "python3"
  },
  "language_info": {
   "codemirror_mode": {
    "name": "ipython",
    "version": 3
   },
   "file_extension": ".py",
   "mimetype": "text/x-python",
   "name": "python",
   "nbconvert_exporter": "python",
   "pygments_lexer": "ipython3",
   "version": "3.10.9"
  }
 },
 "nbformat": 4,
 "nbformat_minor": 5
}
