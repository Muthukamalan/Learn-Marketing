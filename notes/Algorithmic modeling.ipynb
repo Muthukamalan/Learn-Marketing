{
 "cells": [
  {
   "cell_type": "markdown",
   "id": "e7914b9d-1e45-43d9-98c0-d7f3acde5a50",
   "metadata": {},
   "source": [
    "# Intro to Marketing"
   ]
  },
  {
   "cell_type": "markdown",
   "id": "e7d0f309-6483-4790-874f-a57dff31073e",
   "metadata": {},
   "source": [
    "History of Marketing has always been recognized that this optimization problem can be approached in a scientific way and that rigorous mathematical methods can be applied to a wide range of marketing applications"
   ]
  },
  {
   "cell_type": "markdown",
   "id": "c6d2fb8c-d738-48fb-90d5-f429cf33e2dc",
   "metadata": {},
   "source": [
    "traditional challenges related to \n",
    "-    incompleteness of data, \n",
    "-    complexity of real life marketing settings, \n",
    "-    inflexibility of business processes, and \n",
    "-    software limitations\n"
   ]
  },
  {
   "cell_type": "markdown",
   "id": "ef96b92e-a1de-4968-8f04-f4c361e53387",
   "metadata": {},
   "source": [
    "With digital world, we experiences, personalized experiences for millions and we able to track one or other form of it.\n",
    "-    Targeted sales promotions,\n",
    "-    dynamic pricing in brick-and-mortar and \n",
    "-    online stores, \n",
    "-    e-Commerce search and \n",
    "-    recommendation services, \n",
    "-    online advertising\n",
    "-    etc..\n",
    "\n",
    "but comes with it's own challenges"
   ]
  },
  {
   "cell_type": "markdown",
   "id": "fc234ddf-9809-4f51-adee-d56d9130a07c",
   "metadata": {},
   "source": [
    "the problem of marketing automation can be studied from different perspectives, including \n",
    "-    economics, \n",
    "-    management, \n",
    "-    statistics, and \n",
    "-    engineering\n",
    "-    all are implemented in software to achieve the business objectives\n",
    "\n",
    "\n",
    "One of the traditional definitions of marketing describes it as the activity of\n",
    "-    defining products and \n",
    "-    services offered by a company and \n",
    "-    communicating them to existing or potential customers \n",
    "\n"
   ]
  },
  {
   "cell_type": "markdown",
   "id": "b8727c9a-26db-449c-b2d9-5dd39eb9f145",
   "metadata": {},
   "source": [
    "# **4P**\n",
    "\n",
    "**Product**   – analysis of marketing opportunities, planning of product lines and product features, assortment planning.\n",
    "\n",
    "**Promotion** – all methods of communication between the company and its customers: advertisements, recommendations, customer care, and others.\n",
    "\n",
    "**Price**     – pricing strategies, including posted prices, price discounts, and price changes over time.\n",
    "\n",
    "**Place**     – historically, this refers to the process of making a product or service available to the end user through various distribution channels. More recent interpretations emphasize the role of product discovery and convenience to buy, with the argument that distribution is becoming less relevant with the rise of digitalmarketing channels\n",
    "\n",
    "\n",
    "This categorization is known as __marketing mix__ and each compenent studied from different perpectives.\n",
    "\n",
    "Algorithmic marketing can be better understood by 2 strategy: **strategy** and **process**"
   ]
  },
  {
   "cell_type": "markdown",
   "id": "ee0bac87-5182-4f9b-bd41-5c036bb467c7",
   "metadata": {},
   "source": [
    "For example, \n",
    "\n",
    "**Retailer** \n",
    "    - It has to define its target market, customer services, and product lines as parts of the business strategy. \n",
    "    - The process is an implementation of the strategy that focuses on tactical decisions that support continuous functioning of the company.\n",
    "\n",
    "the scope of neither strategy nor tactical processes can be rigorously defined. but strategy more focused on \n",
    "    - exploration\n",
    "    - analysis\n",
    "    - planning involving human judgement\n",
    "process side more focused on \n",
    "    - execution\n",
    "    - micro decisio\n",
    "    - automation"
   ]
  },
  {
   "cell_type": "markdown",
   "id": "ed9c68a4-5589-48a5-bc6d-24de51ee9269",
   "metadata": {},
   "source": [
    "# Algorithmic Marketing\n",
    "It mainly concerns the process that found in 4 area of MMX and automate process using data driven and automating process\n",
    "e.g) \n",
    "    - acquistion of new customers\n",
    "    - revenue maximization\n",
    "    - advertisement campaign\n",
    "    - price adjustment\n",
    "\n",
    "![Conceptual View](./pics/conceptual_view_algorithmic_marketing_ecosystem.png)"
   ]
  },
  {
   "cell_type": "markdown",
   "id": "e3b39c13-149d-4321-ba30-09e50576d573",
   "metadata": {},
   "source": [
    "## Business Cases\n",
    "Following TWO are generic examples\n",
    "\n",
    "###### `Services and Exchanges`: Online Advertising\n",
    "\n",
    "Terminology:\n",
    "\n",
    "    - CPM  ( Cost-per-Thousand Impressions Model )\n",
    "    - PPC  ( per pay click )\n",
    "    - CTR  ( Click Through Rate )\n",
    "                 revenue = bid_price * CTR\n",
    "    - RTB  ( Real Time Bidding ) be achievable by ability to collect data the behaviour of internet users by DMP and DSP\n",
    "    - DMP  ( Advertisers Data Management Platforms )\n",
    "    - DSP  ( Demand Side Platforms )\n",
    "\n",
    "    Success of RTB leads favourable to independent party like __Advertsing services__ and __Data Service__\n",
    "\n",
    "    - Advertising services advertiser to run advert. campaigns using publisher resources.\n",
    "    - Data Services that collect info about consumers.\n",
    "\n",
    "    Now a days it's going far beyond advertising leads to overwhelning complexity of data and operational decisions and programmatic methods are probably the only way to tackle it.\n",
    "\n",
    "###### `Revenue Management`    : Airline\n",
    "\n",
    "    Not online advertising is the only way"
   ]
  },
  {
   "cell_type": "markdown",
   "id": "0b1e50f0-c742-404d-aa01-11801770b0d7",
   "metadata": {},
   "source": [
    "Scenario:\n",
    "    \n",
    "PeopleExpress, which started in 1981 and offered fares about 70% lower than the major airlines. this threads to Established Airlines because it's open up and enlarge small business.  American Airlines found solution and make their unsold tickets sold at low price to compete. Optimal allocation acheived by using Dynamic Optimization call (DINAMO)\n",
    "\n",
    "they won with people_express and profit increase upto 47.8%\n",
    "\n",
    "Terminology:\n",
    "    Revenue Management consider as counterpart of\n",
    "        - Supply-chain management\n",
    "        - Demand chain management\n",
    "\n",
    "![RevenueManagement_Counterpart](./pics/counterpart_revenue_management.png)"
   ]
  },
  {
   "cell_type": "markdown",
   "id": "e459363b-4353-4604-98cd-9845b5cdb4f8",
   "metadata": {},
   "source": [
    "###### `Marketing Science`:\n",
    "\n",
    "    earlier it was mainly focused on the descriptive analysis of pro-\n",
    "duction and distribution processes\n",
    "\n",
    "    In 1960s, the idea that marketing decisions could be supported by mathematical modeling and\n",
    "optimization methods\n",
    "    \n",
    "    this is how the concept of the marketing mix appeared in 1960\n",
    "\n",
    "    more modern frameworks developed to collect data and implement data anlaysis and optimization algo using advanced probabilistic and optimzation technique\n",
    "\n",
    "###### `Programmatic Services` \n",
    "\n",
    "    4 factors can be controlled by a company to influence consumer purhase decisions:\n",
    "        - product\n",
    "        - promotion\n",
    "        - price\n",
    "        - place\n",
    "    this is very board categorization\n",
    "\n",
    "    so far we seen one or more functional services that implement in certain business process like price or promotion management\n",
    "\n",
    "We define SIX major business model of a **functional services** that are relevant for wide range of B2C verticals:\n",
    "\n",
    "         - promotion\n",
    "         - advertisments\n",
    "         - search\n",
    "         - recommendations\n",
    "         - pricing\n",
    "         - assortment\n",
    "\n",
    "`objective`:  review these relationships and some common design guideline\n",
    "\n",
    "\n",
    "# Relation between Framework and Business\n",
    "\n",
    "The relationships between the six services we have defined, as well as their connections to the marketing mix, can be established as follows:\n",
    "\n",
    "1. The primary purpose of promotion and advertisement services is to match customers with offerings and convey the right message to them.\n",
    "\n",
    "`sample`: e.g) apple means privacy at same line care about Linux\n",
    "\n",
    "2. The search and recommendation services solve the problem of finding the right products for a given customer, which naturally complements the previous service group\n",
    "\n",
    "`sample`: chatgpt corrupt Google when it's pollute with sponsers\n",
    "\n",
    "3. The goal of pricing and assortment services is to determine and optimize the set of offerings and their properties, including price\n",
    "\n",
    "`sample`:\n",
    "\n",
    "\n",
    "![Framework_Relationship](./pics/programatic_serivce_framework.png)\n"
   ]
  },
  {
   "cell_type": "markdown",
   "id": "0ed8bfed-1db8-49c1-a7ec-7927ceacd442",
   "metadata": {},
   "source": [
    "\n",
    "# Design Framework\n",
    "\n",
    "<img \n",
    "    style=\"display: block; \n",
    "           margin-left: auto;\n",
    "           margin-right: auto;\n",
    "           width: 50%;\"\n",
    "    src=\"./pics/framework_of_programmatic_services.png\" \n",
    "    alt=\"Our logo\">\n",
    "</img>"
   ]
  }
 ],
 "metadata": {
  "kernelspec": {
   "display_name": "Python 3 (ipykernel)",
   "language": "python",
   "name": "python3"
  },
  "language_info": {
   "codemirror_mode": {
    "name": "ipython",
    "version": 3
   },
   "file_extension": ".py",
   "mimetype": "text/x-python",
   "name": "python",
   "nbconvert_exporter": "python",
   "pygments_lexer": "ipython3",
   "version": "3.10.9"
  }
 },
 "nbformat": 4,
 "nbformat_minor": 5
}
