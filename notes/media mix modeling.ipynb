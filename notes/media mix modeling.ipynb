{
 "cells": [
  {
   "cell_type": "markdown",
   "id": "11da350d-bc2c-44ef-8f55-77f182e3f9f7",
   "metadata": {},
   "source": [
    "# Resource by Allocations"
   ]
  },
  {
   "cell_type": "markdown",
   "id": "82dacd43-1d4c-4335-94a9-32063b4a69cf",
   "metadata": {},
   "source": [
    "\n",
    "It is sub part of promotion and Advertisements aka Targeting\n",
    "\n",
    "\n",
    "The problem of **optimal targeting** can viewed as marketing resource allocation approach. generally strategy includes marketing and non-marketing activites like,\n",
    "- products\n",
    "- product Life-cycle stages\n",
    "- markets and territories\n",
    "- business objectives\n",
    "- marketing channels\n",
    "- communication types , etc.\n",
    "    \n",
    "    \n",
    "but these are all hard to address programmatic.\n",
    "\n",
    "\n",
    "The modeling and optimization of how resources are allocated across marketing activities and capabilities is known as **marketing mix modeling** (MMM).\n",
    "\n",
    "\n",
    "In this section, we focus on two resource allocation problems,\n",
    "- allocation by channel\n",
    "- allocation by objectives"
   ]
  },
  {
   "cell_type": "markdown",
   "id": "816b3343-5533-492b-ac4e-fe2958f58819",
   "metadata": {},
   "source": [
    "The word **MMM** places important role in **P**romotion in one of 4*P*s\n",
    "\n",
    "either it would be mass[radio,TV,OOH..],personal.digital called as integrated communication channels\n",
    "\n",
    "Every channel comes with own set of cost,audience and efficiency. Om the other hand we can say Optimization at a customer level by channel **Channel Mix Modeling**"
   ]
  },
  {
   "cell_type": "markdown",
   "id": "a30eb31e-b466-4cb4-bd37-eeddad2d7964",
   "metadata": {},
   "source": [
    "Actually here,\n",
    "\n",
    "$$ kpi= f(price, ~place~, promotion,~product~)$$\n",
    "\n",
    "kpi is not so variable, for \n",
    "- place and \n",
    "- product unless new product or something happens\n",
    "\n",
    "Stastical analysis methods that focus on following:\n",
    "- What percentage of revenue is driven by each channel or communication type?\n",
    "- How will affect in a given channel spend affect the revenue?\n",
    "- What is the optimal budget allocation across the channels?\n",
    "\n",
    "\n",
    "Two Main obstacle in Channel MIx Modeling\n",
    "- multiple campaigns can overlap or runs in parallel we can observe only cumulative effect. (MMM works on aggregated responses)\n",
    "- We can measure channel activity by number of emails and online adv. but customer responses are delay or spread over time."
   ]
  },
  {
   "cell_type": "markdown",
   "id": "0a6157e0-35fd-4697-99ca-6de85bad501b",
   "metadata": {},
   "source": [
    "#### Adstock Model or Advertising-CarryOver"
   ]
  },
  {
   "cell_type": "markdown",
   "id": "ad00c08c-b218-4f9f-94d0-528e6cadb037",
   "metadata": {
    "tags": []
   },
   "source": [
    "[Broadbent, 1979] (https://mpra.ub.uni-muenchen.de/7683/4/Adstock)\n",
    "\n",
    "key assumption,\n",
    "- sales period retains a fraction of previous stock of advertising.\n",
    "\n",
    "\n",
    "\n",
    "Let's assume we've only one channel activity measure in dollar $x_{t}$ and business metric sales/volume measured in $y_{t}$\n",
    "\n",
    "The current effect induced by the activity(positive/negative) on business metric $a_{t}$\n",
    "$$a_{t} = x_{t}+ \\lambda a_{t-1}$$\n",
    "\n",
    "$I^{st}$ time activity, $\\hat{y}_{1}=wx_{1}+c$\n",
    "\n",
    "$II^{nd}$ time activity, $\\hat{y}_{2}=w(x_{2} +.4 * x_{1})+c$   means, 40% effect comes from previous activity\n",
    "\n",
    "In general,\n",
    "$$a_{t} = x_{t} + \\lambda a_{t-1}$$\n",
    "\n",
    "$$a_{t} = x_{t} + \\lambda x_{t-1} + \\lambda^{2} x_{t-2} + \\lambda^{3} x_{t-3}+..$$\n",
    "\n",
    "$$a_{t} = x_{t} + \\sum^{n}_{j=1} \\lambda^{j} x_{t-j} $$\n",
    "\n",
    "\n",
    "Linear Function of the adstock model,\n",
    "\n",
    "$$\\hat{y}_{t}=wa_{t}+c$$\n",
    "\n",
    "c is the baseline value with no adstock\n",
    "w is the weight\n",
    "\n",
    "$$\\hat{y}_{t} = \\sum^{n}_{i=1} w_{i}a_{it} +C $$\n"
   ]
  },
  {
   "cell_type": "markdown",
   "id": "c2ac28e9-f77c-43a6-9437-5a6185fa8848",
   "metadata": {},
   "source": [
    "\n",
    "**Our Optimization Equation**\n",
    "$$\\underset{c,w,\\lambda}{\\operatorname{min}} \\sum_{t} |y_{t} - \\hat{y}_{t}|^{2}$$"
   ]
  },
  {
   "cell_type": "markdown",
   "id": "9193e539-ae7a-4c87-a8af-5b6469d987be",
   "metadata": {},
   "source": [
    "`INFO`:\n",
    "\n",
    "Basic adstock model accounts for overlapping marketing activities and decay effect"
   ]
  },
  {
   "cell_type": "markdown",
   "id": "3b7117ac-ec2d-496c-a875-b8829a6402fc",
   "metadata": {},
   "source": [
    "what we used here is \n",
    "- simple decay effect\n",
    "- Log decay effect,  $a_{t} = log(x_{t}) + \\lambda a_{t-1}$\n",
    "$$a_{t} = log(x_{t}) + \\sum_{j=1}^{n} \\lambda^{j} x_{t-j}$$\n",
    "- negative decay effect, $a_{t} = 1-\\exp^{-v x_{t}} + \\lambda a_{t-1}$\n",
    "$$a_{t} = 1-\\exp^{-v x_{t}} + \\sum_{j=1}^{n} \\lambda^{j} x_{t-j}$$\n",
    "\n",
    "#### Diminishing Effect\n",
    "```\n",
    "so that spending more dollars on the marketing activity at some point yields a lower incremental demand\n",
    "```\n",
    "However the realtion in practicality shows , non-linear always,\n",
    "- Diminishing returns $a_{t} = {1 \\over 1+\\exp(-\\mu x_{t})} + \\lambda a_{t-1}$"
   ]
  },
  {
   "cell_type": "code",
   "execution_count": null,
   "id": "30a56bdd-8838-4186-b00f-8125cd61ea08",
   "metadata": {},
   "outputs": [],
   "source": []
  }
 ],
 "metadata": {
  "kernelspec": {
   "display_name": "Python 3 (ipykernel)",
   "language": "python",
   "name": "python3"
  },
  "language_info": {
   "codemirror_mode": {
    "name": "ipython",
    "version": 3
   },
   "file_extension": ".py",
   "mimetype": "text/x-python",
   "name": "python",
   "nbconvert_exporter": "python",
   "pygments_lexer": "ipython3",
   "version": "3.10.9"
  }
 },
 "nbformat": 4,
 "nbformat_minor": 5
}
